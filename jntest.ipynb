{
 "cells": [
  {
   "cell_type": "code",
   "execution_count": 1,
   "id": "4ad4c311",
   "metadata": {},
   "outputs": [],
   "source": [
    "mdata <- read.csv(file.choose())"
   ]
  },
  {
   "cell_type": "code",
   "execution_count": 2,
   "id": "6fdfc468",
   "metadata": {},
   "outputs": [
    {
     "ename": "ERROR",
     "evalue": "Error in library(ggplot2): there is no package called 'ggplot2'\n",
     "output_type": "error",
     "traceback": [
      "Error in library(ggplot2): there is no package called 'ggplot2'\nTraceback:\n",
      "1. library(ggplot2)"
     ]
    }
   ],
   "source": [
    "library(ggplot2)\n",
    "library(plyr)\n",
    "library(modeest)\n",
    "library(visdat)\n",
    "library(tidyverse)\n",
    "library(factoextra)"
   ]
  },
  {
   "cell_type": "code",
   "execution_count": 3,
   "id": "ec563d85",
   "metadata": {},
   "outputs": [
    {
     "data": {
      "text/html": [
       "0"
      ],
      "text/latex": [
       "0"
      ],
      "text/markdown": [
       "0"
      ],
      "text/plain": [
       "[1] 0"
      ]
     },
     "metadata": {},
     "output_type": "display_data"
    },
    {
     "data": {
      "text/html": [
       "<dl class=dl-horizontal>\n",
       "\t<dt>X</dt>\n",
       "\t\t<dd>0</dd>\n",
       "\t<dt>CaseOrder</dt>\n",
       "\t\t<dd>0</dd>\n",
       "\t<dt>Customer_id</dt>\n",
       "\t\t<dd>0</dd>\n",
       "\t<dt>Interaction</dt>\n",
       "\t\t<dd>0</dd>\n",
       "\t<dt>UID</dt>\n",
       "\t\t<dd>0</dd>\n",
       "\t<dt>City</dt>\n",
       "\t\t<dd>0</dd>\n",
       "\t<dt>State</dt>\n",
       "\t\t<dd>0</dd>\n",
       "\t<dt>County</dt>\n",
       "\t\t<dd>0</dd>\n",
       "\t<dt>Zip</dt>\n",
       "\t\t<dd>0</dd>\n",
       "\t<dt>Lat</dt>\n",
       "\t\t<dd>0</dd>\n",
       "\t<dt>Lng</dt>\n",
       "\t\t<dd>0</dd>\n",
       "\t<dt>Population</dt>\n",
       "\t\t<dd>0</dd>\n",
       "\t<dt>Area</dt>\n",
       "\t\t<dd>0</dd>\n",
       "\t<dt>Timezone</dt>\n",
       "\t\t<dd>0</dd>\n",
       "\t<dt>Job</dt>\n",
       "\t\t<dd>0</dd>\n",
       "\t<dt>Children</dt>\n",
       "\t\t<dd>2588</dd>\n",
       "\t<dt>Age</dt>\n",
       "\t\t<dd>2414</dd>\n",
       "\t<dt>Education</dt>\n",
       "\t\t<dd>0</dd>\n",
       "\t<dt>Employment</dt>\n",
       "\t\t<dd>0</dd>\n",
       "\t<dt>Income</dt>\n",
       "\t\t<dd>2464</dd>\n",
       "\t<dt>Marital</dt>\n",
       "\t\t<dd>0</dd>\n",
       "\t<dt>Gender</dt>\n",
       "\t\t<dd>0</dd>\n",
       "\t<dt>ReAdmis</dt>\n",
       "\t\t<dd>0</dd>\n",
       "\t<dt>VitD_levels</dt>\n",
       "\t\t<dd>0</dd>\n",
       "\t<dt>Doc_visits</dt>\n",
       "\t\t<dd>0</dd>\n",
       "\t<dt>Full_meals_eaten</dt>\n",
       "\t\t<dd>0</dd>\n",
       "\t<dt>VitD_supp</dt>\n",
       "\t\t<dd>0</dd>\n",
       "\t<dt>Soft_drink</dt>\n",
       "\t\t<dd>2467</dd>\n",
       "\t<dt>Initial_admin</dt>\n",
       "\t\t<dd>0</dd>\n",
       "\t<dt>HighBlood</dt>\n",
       "\t\t<dd>0</dd>\n",
       "\t<dt>Stroke</dt>\n",
       "\t\t<dd>0</dd>\n",
       "\t<dt>Complication_risk</dt>\n",
       "\t\t<dd>0</dd>\n",
       "\t<dt>Overweight</dt>\n",
       "\t\t<dd>982</dd>\n",
       "\t<dt>Arthritis</dt>\n",
       "\t\t<dd>0</dd>\n",
       "\t<dt>Diabetes</dt>\n",
       "\t\t<dd>0</dd>\n",
       "\t<dt>Hyperlipidemia</dt>\n",
       "\t\t<dd>0</dd>\n",
       "\t<dt>BackPain</dt>\n",
       "\t\t<dd>0</dd>\n",
       "\t<dt>Anxiety</dt>\n",
       "\t\t<dd>984</dd>\n",
       "\t<dt>Allergic_rhinitis</dt>\n",
       "\t\t<dd>0</dd>\n",
       "\t<dt>Reflux_esophagitis</dt>\n",
       "\t\t<dd>0</dd>\n",
       "\t<dt>Asthma</dt>\n",
       "\t\t<dd>0</dd>\n",
       "\t<dt>Services</dt>\n",
       "\t\t<dd>0</dd>\n",
       "\t<dt>Initial_days</dt>\n",
       "\t\t<dd>1056</dd>\n",
       "\t<dt>TotalCharge</dt>\n",
       "\t\t<dd>0</dd>\n",
       "\t<dt>Additional_charges</dt>\n",
       "\t\t<dd>0</dd>\n",
       "\t<dt>Item1</dt>\n",
       "\t\t<dd>0</dd>\n",
       "\t<dt>Item2</dt>\n",
       "\t\t<dd>0</dd>\n",
       "\t<dt>Item3</dt>\n",
       "\t\t<dd>0</dd>\n",
       "\t<dt>Item4</dt>\n",
       "\t\t<dd>0</dd>\n",
       "\t<dt>Item5</dt>\n",
       "\t\t<dd>0</dd>\n",
       "\t<dt>Item6</dt>\n",
       "\t\t<dd>0</dd>\n",
       "\t<dt>Item7</dt>\n",
       "\t\t<dd>0</dd>\n",
       "\t<dt>Item8</dt>\n",
       "\t\t<dd>0</dd>\n",
       "</dl>\n"
      ],
      "text/latex": [
       "\\begin{description*}\n",
       "\\item[X] 0\n",
       "\\item[CaseOrder] 0\n",
       "\\item[Customer\\textbackslash{}\\_id] 0\n",
       "\\item[Interaction] 0\n",
       "\\item[UID] 0\n",
       "\\item[City] 0\n",
       "\\item[State] 0\n",
       "\\item[County] 0\n",
       "\\item[Zip] 0\n",
       "\\item[Lat] 0\n",
       "\\item[Lng] 0\n",
       "\\item[Population] 0\n",
       "\\item[Area] 0\n",
       "\\item[Timezone] 0\n",
       "\\item[Job] 0\n",
       "\\item[Children] 2588\n",
       "\\item[Age] 2414\n",
       "\\item[Education] 0\n",
       "\\item[Employment] 0\n",
       "\\item[Income] 2464\n",
       "\\item[Marital] 0\n",
       "\\item[Gender] 0\n",
       "\\item[ReAdmis] 0\n",
       "\\item[VitD\\textbackslash{}\\_levels] 0\n",
       "\\item[Doc\\textbackslash{}\\_visits] 0\n",
       "\\item[Full\\textbackslash{}\\_meals\\textbackslash{}\\_eaten] 0\n",
       "\\item[VitD\\textbackslash{}\\_supp] 0\n",
       "\\item[Soft\\textbackslash{}\\_drink] 2467\n",
       "\\item[Initial\\textbackslash{}\\_admin] 0\n",
       "\\item[HighBlood] 0\n",
       "\\item[Stroke] 0\n",
       "\\item[Complication\\textbackslash{}\\_risk] 0\n",
       "\\item[Overweight] 982\n",
       "\\item[Arthritis] 0\n",
       "\\item[Diabetes] 0\n",
       "\\item[Hyperlipidemia] 0\n",
       "\\item[BackPain] 0\n",
       "\\item[Anxiety] 984\n",
       "\\item[Allergic\\textbackslash{}\\_rhinitis] 0\n",
       "\\item[Reflux\\textbackslash{}\\_esophagitis] 0\n",
       "\\item[Asthma] 0\n",
       "\\item[Services] 0\n",
       "\\item[Initial\\textbackslash{}\\_days] 1056\n",
       "\\item[TotalCharge] 0\n",
       "\\item[Additional\\textbackslash{}\\_charges] 0\n",
       "\\item[Item1] 0\n",
       "\\item[Item2] 0\n",
       "\\item[Item3] 0\n",
       "\\item[Item4] 0\n",
       "\\item[Item5] 0\n",
       "\\item[Item6] 0\n",
       "\\item[Item7] 0\n",
       "\\item[Item8] 0\n",
       "\\end{description*}\n"
      ],
      "text/markdown": [
       "X\n",
       ":   0CaseOrder\n",
       ":   0Customer_id\n",
       ":   0Interaction\n",
       ":   0UID\n",
       ":   0City\n",
       ":   0State\n",
       ":   0County\n",
       ":   0Zip\n",
       ":   0Lat\n",
       ":   0Lng\n",
       ":   0Population\n",
       ":   0Area\n",
       ":   0Timezone\n",
       ":   0Job\n",
       ":   0Children\n",
       ":   2588Age\n",
       ":   2414Education\n",
       ":   0Employment\n",
       ":   0Income\n",
       ":   2464Marital\n",
       ":   0Gender\n",
       ":   0ReAdmis\n",
       ":   0VitD_levels\n",
       ":   0Doc_visits\n",
       ":   0Full_meals_eaten\n",
       ":   0VitD_supp\n",
       ":   0Soft_drink\n",
       ":   2467Initial_admin\n",
       ":   0HighBlood\n",
       ":   0Stroke\n",
       ":   0Complication_risk\n",
       ":   0Overweight\n",
       ":   982Arthritis\n",
       ":   0Diabetes\n",
       ":   0Hyperlipidemia\n",
       ":   0BackPain\n",
       ":   0Anxiety\n",
       ":   984Allergic_rhinitis\n",
       ":   0Reflux_esophagitis\n",
       ":   0Asthma\n",
       ":   0Services\n",
       ":   0Initial_days\n",
       ":   1056TotalCharge\n",
       ":   0Additional_charges\n",
       ":   0Item1\n",
       ":   0Item2\n",
       ":   0Item3\n",
       ":   0Item4\n",
       ":   0Item5\n",
       ":   0Item6\n",
       ":   0Item7\n",
       ":   0Item8\n",
       ":   0\n",
       "\n"
      ],
      "text/plain": [
       "                 X          CaseOrder        Customer_id        Interaction \n",
       "                 0                  0                  0                  0 \n",
       "               UID               City              State             County \n",
       "                 0                  0                  0                  0 \n",
       "               Zip                Lat                Lng         Population \n",
       "                 0                  0                  0                  0 \n",
       "              Area           Timezone                Job           Children \n",
       "                 0                  0                  0               2588 \n",
       "               Age          Education         Employment             Income \n",
       "              2414                  0                  0               2464 \n",
       "           Marital             Gender            ReAdmis        VitD_levels \n",
       "                 0                  0                  0                  0 \n",
       "        Doc_visits   Full_meals_eaten          VitD_supp         Soft_drink \n",
       "                 0                  0                  0               2467 \n",
       "     Initial_admin          HighBlood             Stroke  Complication_risk \n",
       "                 0                  0                  0                  0 \n",
       "        Overweight          Arthritis           Diabetes     Hyperlipidemia \n",
       "               982                  0                  0                  0 \n",
       "          BackPain            Anxiety  Allergic_rhinitis Reflux_esophagitis \n",
       "                 0                984                  0                  0 \n",
       "            Asthma           Services       Initial_days        TotalCharge \n",
       "                 0                  0               1056                  0 \n",
       "Additional_charges              Item1              Item2              Item3 \n",
       "                 0                  0                  0                  0 \n",
       "             Item4              Item5              Item6              Item7 \n",
       "                 0                  0                  0                  0 \n",
       "             Item8 \n",
       "                 0 "
      ]
     },
     "metadata": {},
     "output_type": "display_data"
    }
   ],
   "source": [
    "# Check for duplicates\n",
    "sum(duplicated(mdata))\n",
    "\n",
    "# Check for missing values\n",
    "colSums(is.na(mdata))"
   ]
  },
  {
   "cell_type": "code",
   "execution_count": 4,
   "id": "92c4d8d4",
   "metadata": {},
   "outputs": [
    {
     "data": {
      "text/html": [
       "2.09821910415542"
      ],
      "text/latex": [
       "2.09821910415542"
      ],
      "text/markdown": [
       "2.09821910415542"
      ],
      "text/plain": [
       "[1] 2.098219"
      ]
     },
     "metadata": {},
     "output_type": "display_data"
    },
    {
     "data": {
      "text/html": [
       "1.814"
      ],
      "text/latex": [
       "1.814"
      ],
      "text/markdown": [
       "1.814"
      ],
      "text/plain": [
       "[1] 1.814"
      ]
     },
     "metadata": {},
     "output_type": "display_data"
    },
    {
     "data": {
      "image/png": "[encoded data removed]",
      "text/plain": [
       "Plot with title \"Children (before imputation)\""
      ]
     },
     "metadata": {},
     "output_type": "display_data"
    },
    {
     "data": {
      "image/png": "[encoded data removed]",
      "text/plain": [
       "Plot with title \"Children (after imputation)\""
      ]
     },
     "metadata": {},
     "output_type": "display_data"
    }
   ],
   "source": [
    "# Children\n",
    "hist(mdata$Children, main = \"Children (before imputation)\")\n",
    "mean(mdata$Children, na.rm = TRUE)\n",
    "mdata$Children[is.na(mdata$Children)] <- median(mdata$Children, na.rm = TRUE)\n",
    "mean(mdata$Children, na.rm = TRUE)\n",
    "hist(mdata$Children, main = \"Children (after imputation)\")"
   ]
  },
  {
   "cell_type": "code",
   "execution_count": 5,
   "id": "52d0693c",
   "metadata": {},
   "outputs": [
    {
     "data": {
      "text/html": [
       "53.2956762457158"
      ],
      "text/latex": [
       "53.2956762457158"
      ],
      "text/markdown": [
       "53.2956762457158"
      ],
      "text/plain": [
       "[1] 53.29568"
      ]
     },
     "metadata": {},
     "output_type": "display_data"
    },
    {
     "data": {
      "text/html": [
       "53.2243"
      ],
      "text/latex": [
       "53.2243"
      ],
      "text/markdown": [
       "53.2243"
      ],
      "text/plain": [
       "[1] 53.2243"
      ]
     },
     "metadata": {},
     "output_type": "display_data"
    },
    {
     "data": {
      "image/png": "[encoded data removed]",
      "text/plain": [
       "Plot with title \"Age (before imputation)\""
      ]
     },
     "metadata": {},
     "output_type": "display_data"
    },
    {
     "data": {
      "image/png": "[encoded data removed]",
      "text/plain": [
       "Plot with title \"Age (after imputation)\""
      ]
     },
     "metadata": {},
     "output_type": "display_data"
    }
   ],
   "source": [
    "# Age\n",
    "hist(mdata$Age, main = \"Age (before imputation)\")\n",
    "mean(mdata$Age, na.rm = TRUE)\n",
    "mdata$Age[is.na(mdata$Age)] <- median(mdata$Age, na.rm = TRUE)\n",
    "mean(mdata$Age, na.rm = TRUE)\n",
    "hist(mdata$Age, main = \"Age (after imputation)\")"
   ]
  },
  {
   "cell_type": "code",
   "execution_count": 6,
   "id": "e96a3ccf",
   "metadata": {},
   "outputs": [
    {
     "data": {
      "text/html": [
       "<ol class=list-inline>\n",
       "\t<li>Some College, Less than 1 Year</li>\n",
       "\t<li>Some College, 1 or More Years, No Degree</li>\n",
       "\t<li>GED or Alternative Credential</li>\n",
       "\t<li>Regular High School Diploma</li>\n",
       "\t<li>Bachelor's Degree</li>\n",
       "\t<li>Master's Degree</li>\n",
       "\t<li>Nursery School to 8th Grade</li>\n",
       "\t<li>9th Grade to 12th Grade, No Diploma</li>\n",
       "\t<li>Doctorate Degree</li>\n",
       "\t<li>Associate's Degree</li>\n",
       "\t<li>Professional School Degree</li>\n",
       "\t<li>No Schooling Completed</li>\n",
       "</ol>\n",
       "\n",
       "<details>\n",
       "\t<summary style=display:list-item;cursor:pointer>\n",
       "\t\t<strong>Levels</strong>:\n",
       "\t</summary>\n",
       "\t<ol class=list-inline>\n",
       "\t\t<li>'9th Grade to 12th Grade, No Diploma'</li>\n",
       "\t\t<li>'Associate\\'s Degree'</li>\n",
       "\t\t<li>'Bachelor\\'s Degree'</li>\n",
       "\t\t<li>'Doctorate Degree'</li>\n",
       "\t\t<li>'GED or Alternative Credential'</li>\n",
       "\t\t<li>'Master\\'s Degree'</li>\n",
       "\t\t<li>'No Schooling Completed'</li>\n",
       "\t\t<li>'Nursery School to 8th Grade'</li>\n",
       "\t\t<li>'Professional School Degree'</li>\n",
       "\t\t<li>'Regular High School Diploma'</li>\n",
       "\t\t<li>'Some College, 1 or More Years, No Degree'</li>\n",
       "\t\t<li>'Some College, Less than 1 Year'</li>\n",
       "\t</ol>\n",
       "</details>"
      ],
      "text/latex": [
       "\\begin{enumerate*}\n",
       "\\item Some College, Less than 1 Year\n",
       "\\item Some College, 1 or More Years, No Degree\n",
       "\\item GED or Alternative Credential\n",
       "\\item Regular High School Diploma\n",
       "\\item Bachelor's Degree\n",
       "\\item Master's Degree\n",
       "\\item Nursery School to 8th Grade\n",
       "\\item 9th Grade to 12th Grade, No Diploma\n",
       "\\item Doctorate Degree\n",
       "\\item Associate's Degree\n",
       "\\item Professional School Degree\n",
       "\\item No Schooling Completed\n",
       "\\end{enumerate*}\n",
       "\n",
       "\\emph{Levels}: \\begin{enumerate*}\n",
       "\\item '9th Grade to 12th Grade, No Diploma'\n",
       "\\item 'Associate\\textbackslash{}'s Degree'\n",
       "\\item 'Bachelor\\textbackslash{}'s Degree'\n",
       "\\item 'Doctorate Degree'\n",
       "\\item 'GED or Alternative Credential'\n",
       "\\item 'Master\\textbackslash{}'s Degree'\n",
       "\\item 'No Schooling Completed'\n",
       "\\item 'Nursery School to 8th Grade'\n",
       "\\item 'Professional School Degree'\n",
       "\\item 'Regular High School Diploma'\n",
       "\\item 'Some College, 1 or More Years, No Degree'\n",
       "\\item 'Some College, Less than 1 Year'\n",
       "\\end{enumerate*}\n"
      ],
      "text/markdown": [
       "1. Some College, Less than 1 Year\n",
       "2. Some College, 1 or More Years, No Degree\n",
       "3. GED or Alternative Credential\n",
       "4. Regular High School Diploma\n",
       "5. Bachelor's Degree\n",
       "6. Master's Degree\n",
       "7. Nursery School to 8th Grade\n",
       "8. 9th Grade to 12th Grade, No Diploma\n",
       "9. Doctorate Degree\n",
       "10. Associate's Degree\n",
       "11. Professional School Degree\n",
       "12. No Schooling Completed\n",
       "\n",
       "\n",
       "\n",
       "**Levels**: 1. '9th Grade to 12th Grade, No Diploma'\n",
       "2. 'Associate\\'s Degree'\n",
       "3. 'Bachelor\\'s Degree'\n",
       "4. 'Doctorate Degree'\n",
       "5. 'GED or Alternative Credential'\n",
       "6. 'Master\\'s Degree'\n",
       "7. 'No Schooling Completed'\n",
       "8. 'Nursery School to 8th Grade'\n",
       "9. 'Professional School Degree'\n",
       "10. 'Regular High School Diploma'\n",
       "11. 'Some College, 1 or More Years, No Degree'\n",
       "12. 'Some College, Less than 1 Year'\n",
       "\n",
       "\n"
      ],
      "text/plain": [
       " [1] Some College, Less than 1 Year          \n",
       " [2] Some College, 1 or More Years, No Degree\n",
       " [3] GED or Alternative Credential           \n",
       " [4] Regular High School Diploma             \n",
       " [5] Bachelor's Degree                       \n",
       " [6] Master's Degree                         \n",
       " [7] Nursery School to 8th Grade             \n",
       " [8] 9th Grade to 12th Grade, No Diploma     \n",
       " [9] Doctorate Degree                        \n",
       "[10] Associate's Degree                      \n",
       "[11] Professional School Degree              \n",
       "[12] No Schooling Completed                  \n",
       "12 Levels: 9th Grade to 12th Grade, No Diploma ... Some College, Less than 1 Year"
      ]
     },
     "metadata": {},
     "output_type": "display_data"
    },
    {
     "ename": "ERROR",
     "evalue": "Error in revalue(x = mdata$Education, replace = c(`No Schooling Completed` = 0, : could not find function \"revalue\"\n",
     "output_type": "error",
     "traceback": [
      "Error in revalue(x = mdata$Education, replace = c(`No Schooling Completed` = 0, : could not find function \"revalue\"\nTraceback:\n"
     ]
    }
   ],
   "source": [
    "# Ordinal Encoding\n",
    "\n",
    "# Education\n",
    "unique(mdata$Education)\n",
    "education.num <- revalue(x=mdata$Education, replace = c(\"No Schooling Completed\" = 0,\n",
    "                                                          \"Nursery School to 8th Grade\" = 1,\n",
    "                                                          \"9th Grade to 12th Grade, No Diploma\" = 3,\n",
    "                                                          \"GED or Alternative Credential\" = 4,\n",
    "                                                          \"Regular High School Diploma\" = 5,\n",
    "                                                          \"Some College, Less than 1 Year\" = 6,\n",
    "                                                          \"Some College, 1 or More Years, No Degree\" = 7,\n",
    "                                                          \"Professional School Degree\" = 8,\n",
    "                                                          \"Associate's Degree\" = 9,\n",
    "                                                          \"Bachelor's Degree\" = 10,\n",
    "                                                          \"Master's Degree\" = 11,\n",
    "                                                          \"Doctorate Degree\" = 12))\n",
    "mdata$Education <- as.numeric(education.num)\n",
    "str(mdata$Education)\n"
   ]
  },
  {
   "cell_type": "code",
   "execution_count": null,
   "id": "7f9c123b",
   "metadata": {},
   "outputs": [],
   "source": []
  }
 ],
 "metadata": {
  "kernelspec": {
   "display_name": "R",
   "language": "R",
   "name": "ir"
  },
  "language_info": {
   "codemirror_mode": "r",
   "file_extension": ".r",
   "mimetype": "text/x-r-source",
   "name": "R",
   "pygments_lexer": "r",
   "version": "3.6.1"
  }
 },
 "nbformat": 4,
 "nbformat_minor": 5
}
